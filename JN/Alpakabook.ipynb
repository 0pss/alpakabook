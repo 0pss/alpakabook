{
 "cells": [
  {
   "cell_type": "markdown",
   "metadata": {},
   "source": [
    "# Hallo liebe Haecksen und Hacker!"
   ]
  },
  {
   "cell_type": "markdown",
   "metadata": {},
   "source": [
    "Heute lernen wir einiges über \"Datamining\". Ihr habt euch sicherlich schon mit dem Sozialen Netzwerk Alpakabook vertraut gemacht! Jetzt geht es darum, wie wir Informations-Bergbau betreiben können, also große Mengen an Daten aus dem Netzwerk abschöpfen können."
   ]
  },
  {
   "cell_type": "markdown",
   "metadata": {},
   "source": [
    "Zunächst brauchen wir einige praktische Fuktionen, z.B. um Benutzerdaten abzufragen. Um diese später zu benutzen, importieren wir sie wie folgt:"
   ]
  },
  {
   "cell_type": "code",
   "execution_count": 1,
   "metadata": {},
   "outputs": [],
   "source": [
    "from funktionen import *"
   ]
  },
  {
   "cell_type": "markdown",
   "metadata": {},
   "source": [
    "Das wars schon! Jetzt können wir anfangen zu \"Data-minen\" ;)"
   ]
  },
  {
   "cell_type": "markdown",
   "metadata": {},
   "source": [
    "## 1. Benutzerdaten einzelner Nutzer*innen abfragen"
   ]
  },
  {
   "cell_type": "markdown",
   "metadata": {},
   "source": [
    "Um die Daten von einem\\*r Nutzer\\*in abzufragen brauchen wir nur folgendes:"
   ]
  },
  {
   "cell_type": "raw",
   "metadata": {},
   "source": [
    "getInfo(1)"
   ]
  },
  {
   "cell_type": "markdown",
   "metadata": {},
   "source": [
    "Die Zahl in den Klammern ist die User-Identifikationsnummer (kurz: User-ID) Über diese sagt ihr dem Netzwerk, welche*n User*in ihr ansehen wollt. Das gleiche passiert in eurem Webbrowser wenn ihr ein Profil aufruft."
   ]
  },
  {
   "cell_type": "code",
   "execution_count": 2,
   "metadata": {},
   "outputs": [
    {
     "data": {
      "text/plain": [
       "{'username': 'Leon Flauschstark',\n",
       " 'FavIce': 'Erdnussbutter',\n",
       " 'Shoesize': '35',\n",
       " 'Age': '17',\n",
       " 'Hobbies': 'Malen',\n",
       " 'Profile_pic': '/home/user/Dokumente/#Projekte/alpakabook_git/alpakabook/profile_pictures/profile_pictures/a3.jpg',\n",
       " 'friends': [1138,\n",
       "  1119,\n",
       "  1120,\n",
       "  1121,\n",
       "  1122,\n",
       "  1123,\n",
       "  1124,\n",
       "  1125,\n",
       "  1126,\n",
       "  1127,\n",
       "  1128,\n",
       "  1129,\n",
       "  1130,\n",
       "  1131,\n",
       "  1132,\n",
       "  1133,\n",
       "  1134,\n",
       "  1135,\n",
       "  1136],\n",
       " 'friends_names': ['Lamara Haferstroh',\n",
       "  'Camilla Lama',\n",
       "  'Nina Zauberfee',\n",
       "  'Camilla Kuscheldecke',\n",
       "  'Inka Schnuffelhase',\n",
       "  'Inka Wolkenfell',\n",
       "  'Felix Freundchen',\n",
       "  'Fleece Puschelton',\n",
       "  'Ella Fröhlichmacher',\n",
       "  'Tommy Lachenkind',\n",
       "  'Lamby Kuscheldecke',\n",
       "  'Camilla Glückspilz',\n",
       "  'Beni Spitzenflausch',\n",
       "  'Tommy Fluffington',\n",
       "  'Nina Spitzenflausch',\n",
       "  'Alpina Schnuffelhase',\n",
       "  'Lina Träumerlein',\n",
       "  'Tommy Lamaschur',\n",
       "  'Lamby Glitzerflocke']}"
      ]
     },
     "execution_count": 2,
     "metadata": {},
     "output_type": "execute_result"
    }
   ],
   "source": [
    "getInfo(1137)"
   ]
  },
  {
   "cell_type": "markdown",
   "metadata": {},
   "source": [
    "Hmmm das sieht nicht sehr leserlich aus.... Dafür gibt es aber zum Glück die ```anzeigen(```-funktion! Dieses Mal schreiben wir in die klammern keine User-ID, sondern geben einfach die ganze Funktion von vorhin hinein! Also so:"
   ]
  },
  {
   "cell_type": "code",
   "execution_count": 3,
   "metadata": {},
   "outputs": [
    {
     "data": {
      "text/html": [
       "\n",
       "            <!DOCTYPE html>\n",
       "            <html>\n",
       "            <head>\n",
       "                <style>\n",
       "                    img.fixed {\n",
       "                        border: 5px outset lightgray;\n",
       "                        border-radius: 2%;\n",
       "                        width: 100%;\n",
       "                        max-width: 100%; /* Ensure the image doesn't exceed its container */\n",
       "                    }\n",
       "\n",
       "                    /* CSS for the username */\n",
       "                    .username {\n",
       "                        font-size: 14px;\n",
       "                        /* Add any other username styles here */\n",
       "                    }\n",
       "\n",
       "                    .divider2 {\n",
       "                        flex: 0 0 10%; /* 10% width for the divider, doesn't grow or shrink */\n",
       "                        background-color: #FFF; /* Change the color as needed */\n",
       "                    }\n",
       "\n",
       "                    .container2 {\n",
       "                        display: flex;\n",
       "                        width: 100%;\n",
       "                    }\n",
       "\n",
       "                    .column2 {\n",
       "                        flex: 1; /* Automatically distribute remaining space */\n",
       "                        padding: 10px; /* Optional padding for spacing */\n",
       "                        /* text-align: center; Remove this line if you don't want center alignment */\n",
       "                    }\n",
       "                </style>\n",
       "            </head>\n",
       "            <body>\n",
       "                <div class=\"container2\">\n",
       "                    <div class=\"column2\" style=\"flex: 3;\"> <!-- 30% width -->\n",
       "                        <img src=\"http://127.0.0.1:8000/media/profile_pictures//a12.jpg\" alt=\"Profile Picture\" class=\"fixed\">\n",
       "                    </div>\n",
       "                    <div class=\"divider2\"></div> <!-- 10% divider -->\n",
       "                    <div class=\"column2\" style=\"flex: 6;\"> <!-- 60% width -->\n",
       "                        <!-- Replace Lamara Haferstroh with the actual username -->\n",
       "                        <h2 style=\"font-family: Arial, sans-serif; color: #142b58\" class=\"username\">Lamara Haferstroh</h2>\n",
       "                        <table class=\"table\">\n",
       "                            <tr>\n",
       "                                <td class=\"table-label\">Alter</td>\n",
       "                                <td>18</td>\n",
       "                            </tr>\n",
       "                            <tr>\n",
       "                                <td class=\"table-label\">Lieblingseis</td>\n",
       "                                <td>Egal, haupsache mit Streußel</td>\n",
       "                            </tr>\n",
       "                            <tr>\n",
       "                                <td class=\"table-label\">Hufgröße</td>\n",
       "                                <td>39</td>\n",
       "                            </tr>\n",
       "                            <tr>\n",
       "                                <td class=\"table-label\">Hobbies</td>\n",
       "                                <td>Programmieren, Stricken, Klettern</td>\n",
       "                            </tr>\n",
       "                        </table>\n",
       "                    </div>\n",
       "                </div>\n",
       "            </body>\n",
       "            </html>\n",
       "\n",
       "                    "
      ],
      "text/plain": [
       "<IPython.core.display.HTML object>"
      ]
     },
     "metadata": {},
     "output_type": "display_data"
    }
   ],
   "source": [
    "anzeigen(getInfo(1138))"
   ]
  },
  {
   "cell_type": "markdown",
   "metadata": {},
   "source": [
    "Wow, sieht doch gleich viel besser aus!"
   ]
  },
  {
   "cell_type": "markdown",
   "metadata": {},
   "source": [
    "## <span style=\"color:red\">Deine Aufgabe: Finde deine UserID und lass dir dein Profil hier anzeigen!</span>"
   ]
  },
  {
   "cell_type": "code",
   "execution_count": null,
   "metadata": {},
   "outputs": [],
   "source": []
  },
  {
   "cell_type": "code",
   "execution_count": null,
   "metadata": {},
   "outputs": [],
   "source": []
  },
  {
   "cell_type": "code",
   "execution_count": null,
   "metadata": {},
   "outputs": [],
   "source": []
  },
  {
   "cell_type": "markdown",
   "metadata": {},
   "source": [
    "## 2. Einzelne Daten abfragen"
   ]
  },
  {
   "cell_type": "markdown",
   "metadata": {},
   "source": [
    "Nun können wir ein ganzes Profil Abfragen und die Daten weiterverarbeiten! Vielleicht möchten wir nur die Schuhgröße eines\\*r Nutzer\\*in wissen. Um darauf zuzureifen kannst du folgendes machen:"
   ]
  },
  {
   "cell_type": "code",
   "execution_count": 5,
   "metadata": {},
   "outputs": [
    {
     "name": "stdout",
     "output_type": "stream",
     "text": [
      "Fehler! Konnte keine Daten für UserID 1 laden.\n"
     ]
    },
    {
     "ename": "AttributeError",
     "evalue": "'NoneType' object has no attribute 'Age'",
     "output_type": "error",
     "traceback": [
      "\u001b[0;31m---------------------------------------------------------------------------\u001b[0m",
      "\u001b[0;31mAttributeError\u001b[0m                            Traceback (most recent call last)",
      "\u001b[0;32m<ipython-input-5-7c902a1b1287>\u001b[0m in \u001b[0;36m<module>\u001b[0;34m\u001b[0m\n\u001b[0;32m----> 1\u001b[0;31m \u001b[0mgetInfo\u001b[0m\u001b[0;34m(\u001b[0m\u001b[0;36m1\u001b[0m\u001b[0;34m)\u001b[0m\u001b[0;34m.\u001b[0m\u001b[0mAge\u001b[0m\u001b[0;34m\u001b[0m\u001b[0;34m\u001b[0m\u001b[0m\n\u001b[0m",
      "\u001b[0;31mAttributeError\u001b[0m: 'NoneType' object has no attribute 'Age'"
     ]
    }
   ],
   "source": [
    "getInfo(1).Age"
   ]
  },
  {
   "cell_type": "markdown",
   "metadata": {},
   "source": [
    "Um zu verstehen, was wir hinter dem Punkt alles schreiben können, schauen wir uns nochmal an, wie das Profil für den Computer aussieht:"
   ]
  },
  {
   "cell_type": "code",
   "execution_count": null,
   "metadata": {},
   "outputs": [],
   "source": [
    "getInfo(1)"
   ]
  },
  {
   "cell_type": "markdown",
   "metadata": {},
   "source": [
    "## <span style=\"color:red\">Deine Aufgabe: Lass dir die Hobbies oder das Lieblingseis deines Profils anzeigen!</span>"
   ]
  },
  {
   "cell_type": "code",
   "execution_count": null,
   "metadata": {},
   "outputs": [],
   "source": []
  },
  {
   "cell_type": "code",
   "execution_count": null,
   "metadata": {},
   "outputs": [],
   "source": []
  },
  {
   "cell_type": "code",
   "execution_count": null,
   "metadata": {},
   "outputs": [],
   "source": []
  },
  {
   "cell_type": "markdown",
   "metadata": {},
   "source": [
    "## 3. Daten mehrerer User"
   ]
  },
  {
   "cell_type": "markdown",
   "metadata": {},
   "source": [
    "Nun ist das ja schon cool Daten einem\\*r Nutzer\\*in abzurufen. Aber egal wen man fragt, eins von etwas ist eigentlich nie gleichbedeutend mit Viel. Und wir wollen jetzt MEHR! "
   ]
  },
  {
   "cell_type": "markdown",
   "metadata": {},
   "source": [
    "Dafür könnten wir natürlich einfach nacheinander die ```getInfo()```-Funktion aufrufen:"
   ]
  },
  {
   "cell_type": "code",
   "execution_count": null,
   "metadata": {},
   "outputs": [],
   "source": [
    "getInfo(1)"
   ]
  },
  {
   "cell_type": "code",
   "execution_count": null,
   "metadata": {},
   "outputs": [],
   "source": [
    "getInfo(2)"
   ]
  },
  {
   "cell_type": "code",
   "execution_count": null,
   "metadata": {},
   "outputs": [],
   "source": [
    "getInfo(3)"
   ]
  },
  {
   "cell_type": "markdown",
   "metadata": {},
   "source": [
    "....usw. "
   ]
  },
  {
   "cell_type": "markdown",
   "metadata": {},
   "source": [
    "Das ist aber ganz schön viel Schreibaufwand. Und eigentlich ändert sich ja jedes mal nur die UserID. Wir können auch einfach dem Computer die Anweisung geben, diese Nummer jedes Mal zu verändern, bzw. mit jedem Mal hochzuzählen."
   ]
  },
  {
   "cell_type": "markdown",
   "metadata": {},
   "source": [
    "einfach geht das mit einer so gennanten \"For-Schleife\". Das Englisch \"For\" steht übersetzt etwa dafür, \"Führe die nachfolgenden Anweisungen für jeden der folgenden Werte einzeln aus\""
   ]
  },
  {
   "cell_type": "code",
   "execution_count": null,
   "metadata": {},
   "outputs": [],
   "source": [
    "for ID in [1,2,3]:\n",
    "    print(ID)"
   ]
  },
  {
   "cell_type": "markdown",
   "metadata": {},
   "source": [
    "# <span style=\"color:red\">TODO: explain print und Listen --> ChatGPT</span>"
   ]
  },
  {
   "cell_type": "code",
   "execution_count": null,
   "metadata": {},
   "outputs": [],
   "source": []
  },
  {
   "cell_type": "markdown",
   "metadata": {},
   "source": [
    "## <span style=\"color:red\">Deine Aufgabe: Lasse dir die Profile von mindestens 3 verschiedenen Nutzer\\*innen anzeigen! Tip: nutze die ```anzeigen(```- funktion und eine ```for```-Schleife</span>"
   ]
  },
  {
   "cell_type": "code",
   "execution_count": null,
   "metadata": {},
   "outputs": [],
   "source": []
  },
  {
   "cell_type": "markdown",
   "metadata": {},
   "source": [
    "## 4. Daten mehrerer Nutzer\\*innen weiterverarbeiten"
   ]
  },
  {
   "cell_type": "code",
   "execution_count": null,
   "metadata": {},
   "outputs": [],
   "source": [
    "for ID in [1,2,5]:\n",
    "    print(getInfo(ID).Age)"
   ]
  },
  {
   "cell_type": "code",
   "execution_count": null,
   "metadata": {},
   "outputs": [],
   "source": []
  },
  {
   "cell_type": "code",
   "execution_count": null,
   "metadata": {},
   "outputs": [],
   "source": []
  },
  {
   "cell_type": "markdown",
   "metadata": {},
   "source": [
    "# 6. Netzwek graph"
   ]
  },
  {
   "cell_type": "code",
   "execution_count": null,
   "metadata": {},
   "outputs": [],
   "source": [
    "NW = Netzwerk()"
   ]
  },
  {
   "cell_type": "code",
   "execution_count": null,
   "metadata": {},
   "outputs": [],
   "source": [
    "for ID in range(1059,1098):\n",
    "    print(ID)\n",
    "    NW.add_node(ID)\n",
    "        \n",
    "    for friend_id in getInfo(ID).friends:\n",
    "        \n",
    "        NW.add_edge(ID, friend_id)"
   ]
  },
  {
   "cell_type": "code",
   "execution_count": null,
   "metadata": {},
   "outputs": [],
   "source": [
    "NW.anzeigen()"
   ]
  },
  {
   "cell_type": "code",
   "execution_count": null,
   "metadata": {},
   "outputs": [],
   "source": [
    "NW.anzeigen(markieren=\"Lamara Haferstroh\")"
   ]
  },
  {
   "cell_type": "code",
   "execution_count": null,
   "metadata": {},
   "outputs": [],
   "source": []
  }
 ],
 "metadata": {
  "kernelspec": {
   "display_name": "Python 3",
   "language": "python",
   "name": "python3"
  },
  "language_info": {
   "codemirror_mode": {
    "name": "ipython",
    "version": 3
   },
   "file_extension": ".py",
   "mimetype": "text/x-python",
   "name": "python",
   "nbconvert_exporter": "python",
   "pygments_lexer": "ipython3",
   "version": "3.8.3"
  }
 },
 "nbformat": 4,
 "nbformat_minor": 4
}
